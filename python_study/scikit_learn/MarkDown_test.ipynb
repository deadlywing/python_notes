{
 "cells": [
  {
   "cell_type": "markdown",
   "metadata": {},
   "source": [
    "# Paragraph"
   ]
  },
  {
   "cell_type": "markdown",
   "metadata": {},
   "source": [
    "**following is different; careful the numbers of blank**"
   ]
  },
  {
   "cell_type": "markdown",
   "metadata": {},
   "source": [
    "this is a paragraph \n",
    "this is a p"
   ]
  },
  {
   "cell_type": "markdown",
   "metadata": {},
   "source": [
    "this is a paragraph  \n",
    "this is a p"
   ]
  },
  {
   "cell_type": "markdown",
   "metadata": {},
   "source": [
    "This is a list item with two paragraphs. Lorem ipsum dolor\n",
    "    sit amet, consectetuer adipiscing elit. Aliquam hendrerit\n",
    "    mi posuere lectus.\n",
    "    \n",
    "This is a list item with two paragraphs. Lorem ipsum dolor\n",
    "    sit amet, consectetuer adipiscing elit. Aliquam hendrerit\n",
    "    mi posuere lectus."
   ]
  },
  {
   "cell_type": "markdown",
   "metadata": {},
   "source": [
    "# TITLE"
   ]
  },
  {
   "cell_type": "markdown",
   "metadata": {},
   "source": [
    "## sencond class\n",
    " something happens?"
   ]
  },
  {
   "cell_type": "markdown",
   "metadata": {},
   "source": [
    "### third class"
   ]
  },
  {
   "cell_type": "markdown",
   "metadata": {},
   "source": [
    "big title\n",
    "====="
   ]
  },
  {
   "cell_type": "markdown",
   "metadata": {},
   "source": [
    "small title\n",
    "---\n",
    "something happens?"
   ]
  },
  {
   "cell_type": "markdown",
   "metadata": {},
   "source": [
    "# List(ordered and unordered)"
   ]
  },
  {
   "cell_type": "markdown",
   "metadata": {},
   "source": [
    "- orange\n",
    "- apple\n",
    "- banana"
   ]
  },
  {
   "cell_type": "markdown",
   "metadata": {},
   "source": [
    "* orange\n",
    "    * apple\n",
    "    - apple2\n",
    "    - apple3\n",
    "        * banana\n",
    "        * banana2\n",
    "        * banana3\n",
    "* orange2\n",
    "    * apple\n",
    "    - apple2\n",
    "    - apple3\n",
    "        * banana\n",
    "        * banana2\n",
    "        * banana3"
   ]
  },
  {
   "cell_type": "markdown",
   "metadata": {},
   "source": [
    "1. orange  \n",
    "2. apple\n",
    "3. banana"
   ]
  },
  {
   "cell_type": "markdown",
   "metadata": {},
   "source": [
    "1.  This is a list item with two paragraphs. Lorem ipsum dolor\n",
    "    sit amet, consectetuer adipiscing elit. Aliquam hendrerit\n",
    "    mi posuere lectus.\n",
    "    \n",
    "    Vestibulum enim wisi, viverra nec, fringilla in, laoreet\n",
    "    vitae, risus. Donec sit amet nisl. Aliquam semper ipsum\n",
    "    sit amet velit.  \n",
    "\n",
    "2.  Suspendisse id sem consectetuer libero luctus adipiscing."
   ]
  },
  {
   "cell_type": "markdown",
   "metadata": {},
   "source": [
    "# Link"
   ]
  },
  {
   "cell_type": "markdown",
   "metadata": {},
   "source": [
    "[this](https://www.baidu.com/ \"title\")\n",
    "\n",
    "*Careful: 'title属性前需要空格'*"
   ]
  },
  {
   "cell_type": "markdown",
   "metadata": {},
   "source": [
    "See my [About](/about/) page for details.\n",
    "\n",
    "**of course, relative path is available**"
   ]
  },
  {
   "cell_type": "markdown",
   "metadata": {},
   "source": [
    "**参考式链接写法!**\n",
    "\n",
    "I get 10 times more traffic from [Baidu] [1] than from\n",
    "[Yahoo] [2] or [MSN] [3].\n",
    "\n",
    "[1]: https://www.baidu.com/    \"Baidu search\"\n",
    "[2]: http://search.yahoo.com/  \"Yahoo Search\"\n",
    "[3]: http://search.msn.com/    \"MSN Search\""
   ]
  },
  {
   "cell_type": "markdown",
   "metadata": {},
   "source": [
    "<https://www.baidu.com>"
   ]
  },
  {
   "cell_type": "markdown",
   "metadata": {},
   "source": [
    "<437743165@qq.com>"
   ]
  },
  {
   "cell_type": "markdown",
   "metadata": {},
   "source": [
    "# Escape "
   ]
  },
  {
   "cell_type": "markdown",
   "metadata": {},
   "source": [
    "\\*literal asterisks\\*"
   ]
  },
  {
   "cell_type": "markdown",
   "metadata": {},
   "source": [
    "# Picture"
   ]
  },
  {
   "cell_type": "markdown",
   "metadata": {},
   "source": [
    "![index.jpeg](index.jpeg)"
   ]
  },
  {
   "cell_type": "markdown",
   "metadata": {},
   "source": [
    "# Code"
   ]
  },
  {
   "cell_type": "markdown",
   "metadata": {
    "collapsed": true
   },
   "source": [
    "adsf`printf`dfd"
   ]
  },
  {
   "cell_type": "code",
   "execution_count": 1,
   "metadata": {
    "collapsed": true,
    "tags": [
     "code"
    ]
   },
   "outputs": [],
   "source": [
    "import numpy as np\n",
    "import pandas as pd\n",
    "%matplotlib inline"
   ]
  },
  {
   "cell_type": "code",
   "execution_count": 2,
   "metadata": {
    "scrolled": true
   },
   "outputs": [
    {
     "name": "stdout",
     "output_type": "stream",
     "text": [
      "总用量 16\r\n",
      "-rw-rw-r-- 1 zjj zjj 7921 8月  14 22:33 \u001b[0m\u001b[01;35mindex.jpeg\u001b[0m\r\n",
      "-rw-rw-r-- 1 zjj zjj    0 7月  30 19:03 __init__.py\r\n",
      "-rw-rw-r-- 1 zjj zjj 8024 8月  15 19:30 MarkDown_test.ipynb\r\n"
     ]
    }
   ],
   "source": [
    "%ls -l"
   ]
  },
  {
   "cell_type": "code",
   "execution_count": null,
   "metadata": {
    "collapsed": true
   },
   "outputs": [],
   "source": []
  },
  {
   "cell_type": "code",
   "execution_count": null,
   "metadata": {
    "collapsed": true
   },
   "outputs": [],
   "source": []
  }
 ],
 "metadata": {
  "kernelspec": {
   "display_name": "Python 3",
   "language": "python",
   "name": "python3"
  },
  "language_info": {
   "codemirror_mode": {
    "name": "ipython",
    "version": 3
   },
   "file_extension": ".py",
   "mimetype": "text/x-python",
   "name": "python",
   "nbconvert_exporter": "python",
   "pygments_lexer": "ipython3",
   "version": "3.6.1"
  },
  "toc": {
   "colors": {
    "hover_highlight": "#DAA520",
    "navigate_num": "#000000",
    "navigate_text": "#333333",
    "running_highlight": "#FF0000",
    "selected_highlight": "#FFD700",
    "sidebar_border": "#EEEEEE",
    "wrapper_background": "#FFFFFF"
   },
   "moveMenuLeft": true,
   "nav_menu": {
    "height": "161px",
    "width": "252px"
   },
   "navigate_menu": true,
   "number_sections": true,
   "sideBar": true,
   "threshold": 4,
   "toc_cell": false,
   "toc_section_display": "block",
   "toc_window_display": true,
   "widenNotebook": false
  }
 },
 "nbformat": 4,
 "nbformat_minor": 2
}
